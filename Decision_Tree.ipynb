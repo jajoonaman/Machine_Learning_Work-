{
  "nbformat": 4,
  "nbformat_minor": 0,
  "metadata": {
    "colab": {
      "name": "Decision Tree.ipynb",
      "provenance": [],
      "collapsed_sections": [],
      "mount_file_id": "1WM0XVh_D4-FSsMNo-gIL_Wl13YGidG5W",
      "authorship_tag": "ABX9TyMgaMA/UiZttni83jqxqBD0",
      "include_colab_link": true
    },
    "kernelspec": {
      "name": "python3",
      "display_name": "Python 3"
    }
  },
  "cells": [
    {
      "cell_type": "markdown",
      "metadata": {
        "id": "view-in-github",
        "colab_type": "text"
      },
      "source": [
        "<a href=\"https://colab.research.google.com/github/jajoonaman/ML_DL_Work/blob/main/Decision_Tree.ipynb\" target=\"_parent\"><img src=\"https://colab.research.google.com/assets/colab-badge.svg\" alt=\"Open In Colab\"/></a>"
      ]
    },
    {
      "cell_type": "markdown",
      "metadata": {
        "id": "qGF9Z0PBgZIm"
      },
      "source": [
        "\n",
        "*   ###### **Data Cleaning:** Checking for null values and based on their number either droping them or replacing with mean, median, mode based on the type and description of data. Droping decscrete and catagorical variables that have highly skewed histograms.\n",
        "*   ###### **Data Visualization:** This step helps understand the understand the data in a visually. We can understand normality of the data as well. This helps us to decide whether to normalize the data. In case of catagorical variables it also helps in feature selection.\n",
        "*   ###### **Feature Selection:** Based on the Pearson correlation between the labeled column and rest of the features. In general, a very great correlation should have an absolute value greater than 0.75. When the labeled column is depended on multiple columns, the correlation with one column may be less. But combined features may have higher effect.\n",
        "*   ######  **Train Test Split:** We split the data into 80:20 ratio for tarining testing respectively.\n",
        "*   ###### **Model Selection:** Based on the data visualization and data correlation, we need to select a model that would best suit. Here we need to use Decision Tree.\n",
        "\n",
        "*   ###### **Evalution:** In this case we are using R2 Score to determine the accuracy of the predicting model.\n",
        "\n"
      ]
    },
    {
      "cell_type": "code",
      "metadata": {
        "id": "jt-Pp_0h63Jj",
        "colab": {
          "base_uri": "https://localhost:8080/",
          "height": 34
        },
        "outputId": "4f8c41be-df88-48ed-e8b2-7fa736197749"
      },
      "source": [
        "from google.colab import drive\n",
        "drive.mount('/content/drive')"
      ],
      "execution_count": null,
      "outputs": [
        {
          "output_type": "stream",
          "text": [
            "Drive already mounted at /content/drive; to attempt to forcibly remount, call drive.mount(\"/content/drive\", force_remount=True).\n"
          ],
          "name": "stdout"
        }
      ]
    },
    {
      "cell_type": "markdown",
      "metadata": {
        "id": "qY9PZ8z9g2rE"
      },
      "source": [
        "### Importing Libraries"
      ]
    },
    {
      "cell_type": "code",
      "metadata": {
        "id": "rZ6BTSXF-auq"
      },
      "source": [
        "import pandas as pd\n",
        "import numpy as np\n",
        "import matplotlib.pyplot as plt\n",
        "import seaborn as sns"
      ],
      "execution_count": null,
      "outputs": []
    },
    {
      "cell_type": "code",
      "metadata": {
        "id": "BxDCQ59z_5OY",
        "colab": {
          "base_uri": "https://localhost:8080/",
          "height": 252
        },
        "outputId": "6c3d791f-b7f3-4fc7-ed17-a226a9a4c982"
      },
      "source": [
        "# Install PyDrive\n",
        "!pip install PyDrive\n",
        "\n",
        "#Import modules\n",
        "from pydrive.auth import GoogleAuth\n",
        "from pydrive.drive import GoogleDrive\n",
        "from google.colab import auth\n",
        "from oauth2client.client import GoogleCredentials\n",
        "\n",
        "#Authenticate and create the PyDrive client\n",
        "auth.authenticate_user()\n",
        "gauth = GoogleAuth()\n",
        "gauth.credentials = GoogleCredentials.get_application_default()\n",
        "drive = GoogleDrive(gauth)\n",
        "\n",
        "#Get the Shareable link\n",
        "downloaded = drive.CreateFile({'id':\"19NaQXE6zxcifidYjX7ec1T17vWkGfLCP\"})   \n",
        "downloaded.GetContentFile('biddings.csv')       \n",
        "\n",
        "#Read data\n",
        "df = pd.read_csv(\"biddings.csv\")"
      ],
      "execution_count": null,
      "outputs": [
        {
          "output_type": "stream",
          "text": [
            "Requirement already satisfied: PyDrive in /usr/local/lib/python3.6/dist-packages (1.3.1)\n",
            "Requirement already satisfied: google-api-python-client>=1.2 in /usr/local/lib/python3.6/dist-packages (from PyDrive) (1.7.12)\n",
            "Requirement already satisfied: oauth2client>=4.0.0 in /usr/local/lib/python3.6/dist-packages (from PyDrive) (4.1.3)\n",
            "Requirement already satisfied: PyYAML>=3.0 in /usr/local/lib/python3.6/dist-packages (from PyDrive) (3.13)\n",
            "Requirement already satisfied: six<2dev,>=1.6.1 in /usr/local/lib/python3.6/dist-packages (from google-api-python-client>=1.2->PyDrive) (1.15.0)\n",
            "Requirement already satisfied: uritemplate<4dev,>=3.0.0 in /usr/local/lib/python3.6/dist-packages (from google-api-python-client>=1.2->PyDrive) (3.0.1)\n",
            "Requirement already satisfied: google-auth-httplib2>=0.0.3 in /usr/local/lib/python3.6/dist-packages (from google-api-python-client>=1.2->PyDrive) (0.0.4)\n",
            "Requirement already satisfied: google-auth>=1.4.1 in /usr/local/lib/python3.6/dist-packages (from google-api-python-client>=1.2->PyDrive) (1.17.2)\n",
            "Requirement already satisfied: httplib2<1dev,>=0.17.0 in /usr/local/lib/python3.6/dist-packages (from google-api-python-client>=1.2->PyDrive) (0.17.4)\n",
            "Requirement already satisfied: pyasn1>=0.1.7 in /usr/local/lib/python3.6/dist-packages (from oauth2client>=4.0.0->PyDrive) (0.4.8)\n",
            "Requirement already satisfied: rsa>=3.1.4 in /usr/local/lib/python3.6/dist-packages (from oauth2client>=4.0.0->PyDrive) (4.6)\n",
            "Requirement already satisfied: pyasn1-modules>=0.0.5 in /usr/local/lib/python3.6/dist-packages (from oauth2client>=4.0.0->PyDrive) (0.2.8)\n",
            "Requirement already satisfied: setuptools>=40.3.0 in /usr/local/lib/python3.6/dist-packages (from google-auth>=1.4.1->google-api-python-client>=1.2->PyDrive) (50.3.0)\n",
            "Requirement already satisfied: cachetools<5.0,>=2.0.0 in /usr/local/lib/python3.6/dist-packages (from google-auth>=1.4.1->google-api-python-client>=1.2->PyDrive) (4.1.1)\n"
          ],
          "name": "stdout"
        }
      ]
    },
    {
      "cell_type": "code",
      "metadata": {
        "id": "jmLwPSb0AUum",
        "colab": {
          "base_uri": "https://localhost:8080/",
          "height": 244
        },
        "outputId": "d00eead0-4b3b-4581-9891-c1d33245f507"
      },
      "source": [
        "df.head()"
      ],
      "execution_count": null,
      "outputs": [
        {
          "output_type": "execute_result",
          "data": {
            "text/html": [
              "<div>\n",
              "<style scoped>\n",
              "    .dataframe tbody tr th:only-of-type {\n",
              "        vertical-align: middle;\n",
              "    }\n",
              "\n",
              "    .dataframe tbody tr th {\n",
              "        vertical-align: top;\n",
              "    }\n",
              "\n",
              "    .dataframe thead th {\n",
              "        text-align: right;\n",
              "    }\n",
              "</style>\n",
              "<table border=\"1\" class=\"dataframe\">\n",
              "  <thead>\n",
              "    <tr style=\"text-align: right;\">\n",
              "      <th></th>\n",
              "      <th>0</th>\n",
              "      <th>1</th>\n",
              "      <th>2</th>\n",
              "      <th>3</th>\n",
              "      <th>4</th>\n",
              "      <th>5</th>\n",
              "      <th>6</th>\n",
              "      <th>7</th>\n",
              "      <th>8</th>\n",
              "      <th>9</th>\n",
              "      <th>10</th>\n",
              "      <th>11</th>\n",
              "      <th>12</th>\n",
              "      <th>13</th>\n",
              "      <th>14</th>\n",
              "      <th>15</th>\n",
              "      <th>16</th>\n",
              "      <th>17</th>\n",
              "      <th>18</th>\n",
              "      <th>19</th>\n",
              "      <th>20</th>\n",
              "      <th>21</th>\n",
              "      <th>22</th>\n",
              "      <th>23</th>\n",
              "      <th>24</th>\n",
              "      <th>25</th>\n",
              "      <th>26</th>\n",
              "      <th>27</th>\n",
              "      <th>28</th>\n",
              "      <th>29</th>\n",
              "      <th>30</th>\n",
              "      <th>31</th>\n",
              "      <th>32</th>\n",
              "      <th>33</th>\n",
              "      <th>34</th>\n",
              "      <th>35</th>\n",
              "      <th>36</th>\n",
              "      <th>37</th>\n",
              "      <th>38</th>\n",
              "      <th>39</th>\n",
              "      <th>...</th>\n",
              "      <th>49</th>\n",
              "      <th>50</th>\n",
              "      <th>51</th>\n",
              "      <th>52</th>\n",
              "      <th>53</th>\n",
              "      <th>54</th>\n",
              "      <th>55</th>\n",
              "      <th>56</th>\n",
              "      <th>57</th>\n",
              "      <th>58</th>\n",
              "      <th>59</th>\n",
              "      <th>60</th>\n",
              "      <th>61</th>\n",
              "      <th>62</th>\n",
              "      <th>63</th>\n",
              "      <th>64</th>\n",
              "      <th>65</th>\n",
              "      <th>66</th>\n",
              "      <th>67</th>\n",
              "      <th>68</th>\n",
              "      <th>69</th>\n",
              "      <th>70</th>\n",
              "      <th>71</th>\n",
              "      <th>72</th>\n",
              "      <th>73</th>\n",
              "      <th>74</th>\n",
              "      <th>75</th>\n",
              "      <th>76</th>\n",
              "      <th>77</th>\n",
              "      <th>78</th>\n",
              "      <th>79</th>\n",
              "      <th>80</th>\n",
              "      <th>81</th>\n",
              "      <th>82</th>\n",
              "      <th>83</th>\n",
              "      <th>84</th>\n",
              "      <th>85</th>\n",
              "      <th>86</th>\n",
              "      <th>87</th>\n",
              "      <th>convert</th>\n",
              "    </tr>\n",
              "  </thead>\n",
              "  <tbody>\n",
              "    <tr>\n",
              "      <th>0</th>\n",
              "      <td>-0.01</td>\n",
              "      <td>-0.43</td>\n",
              "      <td>2.22</td>\n",
              "      <td>-0.59</td>\n",
              "      <td>0.80</td>\n",
              "      <td>0.21</td>\n",
              "      <td>-0.19</td>\n",
              "      <td>0.30</td>\n",
              "      <td>-0.25</td>\n",
              "      <td>0.42</td>\n",
              "      <td>-0.27</td>\n",
              "      <td>0.50</td>\n",
              "      <td>-0.55</td>\n",
              "      <td>-0.27</td>\n",
              "      <td>-0.89</td>\n",
              "      <td>-0.01</td>\n",
              "      <td>-0.53</td>\n",
              "      <td>1.19</td>\n",
              "      <td>-0.36</td>\n",
              "      <td>0.07</td>\n",
              "      <td>0.01</td>\n",
              "      <td>0.08</td>\n",
              "      <td>0.06</td>\n",
              "      <td>0.18</td>\n",
              "      <td>0.47</td>\n",
              "      <td>0.33</td>\n",
              "      <td>0.49</td>\n",
              "      <td>-0.33</td>\n",
              "      <td>0.32</td>\n",
              "      <td>-0.05</td>\n",
              "      <td>0.20</td>\n",
              "      <td>0.12</td>\n",
              "      <td>-0.07</td>\n",
              "      <td>0.11</td>\n",
              "      <td>0.07</td>\n",
              "      <td>-0.04</td>\n",
              "      <td>-0.12</td>\n",
              "      <td>-0.00</td>\n",
              "      <td>-0.08</td>\n",
              "      <td>-0.02</td>\n",
              "      <td>...</td>\n",
              "      <td>-0.41</td>\n",
              "      <td>-0.62</td>\n",
              "      <td>-1.09</td>\n",
              "      <td>-0.27</td>\n",
              "      <td>0.03</td>\n",
              "      <td>-0.15</td>\n",
              "      <td>-1.67</td>\n",
              "      <td>0.49</td>\n",
              "      <td>-0.08</td>\n",
              "      <td>-0.10</td>\n",
              "      <td>-0.31</td>\n",
              "      <td>-0.20</td>\n",
              "      <td>1.16</td>\n",
              "      <td>-0.49</td>\n",
              "      <td>-0.26</td>\n",
              "      <td>1.34</td>\n",
              "      <td>1.02</td>\n",
              "      <td>1.28</td>\n",
              "      <td>-0.58</td>\n",
              "      <td>-1.17</td>\n",
              "      <td>0.02</td>\n",
              "      <td>-1.59</td>\n",
              "      <td>-1.17</td>\n",
              "      <td>-0.59</td>\n",
              "      <td>0.76</td>\n",
              "      <td>0.05</td>\n",
              "      <td>1.06</td>\n",
              "      <td>-0.12</td>\n",
              "      <td>0.18</td>\n",
              "      <td>-1.82</td>\n",
              "      <td>-0.07</td>\n",
              "      <td>0.30</td>\n",
              "      <td>-0.19</td>\n",
              "      <td>0.61</td>\n",
              "      <td>-0.04</td>\n",
              "      <td>0.36</td>\n",
              "      <td>-0.18</td>\n",
              "      <td>-0.24</td>\n",
              "      <td>0.07</td>\n",
              "      <td>0</td>\n",
              "    </tr>\n",
              "    <tr>\n",
              "      <th>1</th>\n",
              "      <td>0.00</td>\n",
              "      <td>-4.11</td>\n",
              "      <td>1.48</td>\n",
              "      <td>0.92</td>\n",
              "      <td>-7.37</td>\n",
              "      <td>0.60</td>\n",
              "      <td>0.37</td>\n",
              "      <td>1.95</td>\n",
              "      <td>0.19</td>\n",
              "      <td>0.85</td>\n",
              "      <td>-0.36</td>\n",
              "      <td>-0.23</td>\n",
              "      <td>-0.07</td>\n",
              "      <td>0.61</td>\n",
              "      <td>1.04</td>\n",
              "      <td>-1.99</td>\n",
              "      <td>1.85</td>\n",
              "      <td>0.69</td>\n",
              "      <td>0.22</td>\n",
              "      <td>3.86</td>\n",
              "      <td>0.14</td>\n",
              "      <td>0.39</td>\n",
              "      <td>0.51</td>\n",
              "      <td>0.61</td>\n",
              "      <td>1.06</td>\n",
              "      <td>0.74</td>\n",
              "      <td>0.33</td>\n",
              "      <td>0.09</td>\n",
              "      <td>-0.12</td>\n",
              "      <td>0.16</td>\n",
              "      <td>0.16</td>\n",
              "      <td>0.16</td>\n",
              "      <td>-0.00</td>\n",
              "      <td>-0.01</td>\n",
              "      <td>-0.02</td>\n",
              "      <td>-0.13</td>\n",
              "      <td>-0.08</td>\n",
              "      <td>-0.06</td>\n",
              "      <td>-0.00</td>\n",
              "      <td>0.02</td>\n",
              "      <td>...</td>\n",
              "      <td>-0.23</td>\n",
              "      <td>-0.18</td>\n",
              "      <td>0.43</td>\n",
              "      <td>0.56</td>\n",
              "      <td>-1.62</td>\n",
              "      <td>-0.67</td>\n",
              "      <td>-1.53</td>\n",
              "      <td>0.64</td>\n",
              "      <td>0.24</td>\n",
              "      <td>-1.03</td>\n",
              "      <td>-0.49</td>\n",
              "      <td>-0.62</td>\n",
              "      <td>-1.75</td>\n",
              "      <td>0.12</td>\n",
              "      <td>0.07</td>\n",
              "      <td>-0.17</td>\n",
              "      <td>1.30</td>\n",
              "      <td>1.52</td>\n",
              "      <td>-0.56</td>\n",
              "      <td>-0.99</td>\n",
              "      <td>1.14</td>\n",
              "      <td>1.20</td>\n",
              "      <td>-1.82</td>\n",
              "      <td>3.23</td>\n",
              "      <td>1.23</td>\n",
              "      <td>0.08</td>\n",
              "      <td>1.17</td>\n",
              "      <td>-1.43</td>\n",
              "      <td>2.69</td>\n",
              "      <td>-0.30</td>\n",
              "      <td>-0.57</td>\n",
              "      <td>-0.27</td>\n",
              "      <td>1.17</td>\n",
              "      <td>-0.52</td>\n",
              "      <td>-1.43</td>\n",
              "      <td>-0.24</td>\n",
              "      <td>-0.41</td>\n",
              "      <td>0.71</td>\n",
              "      <td>-0.22</td>\n",
              "      <td>0</td>\n",
              "    </tr>\n",
              "    <tr>\n",
              "      <th>2</th>\n",
              "      <td>0.01</td>\n",
              "      <td>-5.03</td>\n",
              "      <td>-2.78</td>\n",
              "      <td>-0.83</td>\n",
              "      <td>0.92</td>\n",
              "      <td>0.46</td>\n",
              "      <td>0.10</td>\n",
              "      <td>1.36</td>\n",
              "      <td>-0.74</td>\n",
              "      <td>1.62</td>\n",
              "      <td>-0.97</td>\n",
              "      <td>1.17</td>\n",
              "      <td>-0.54</td>\n",
              "      <td>-0.21</td>\n",
              "      <td>-0.21</td>\n",
              "      <td>-1.44</td>\n",
              "      <td>-0.92</td>\n",
              "      <td>-0.78</td>\n",
              "      <td>0.45</td>\n",
              "      <td>-0.03</td>\n",
              "      <td>-0.09</td>\n",
              "      <td>0.16</td>\n",
              "      <td>0.30</td>\n",
              "      <td>-0.83</td>\n",
              "      <td>0.05</td>\n",
              "      <td>1.43</td>\n",
              "      <td>1.33</td>\n",
              "      <td>-0.85</td>\n",
              "      <td>0.20</td>\n",
              "      <td>-0.11</td>\n",
              "      <td>0.39</td>\n",
              "      <td>0.13</td>\n",
              "      <td>0.01</td>\n",
              "      <td>0.09</td>\n",
              "      <td>-0.01</td>\n",
              "      <td>-0.12</td>\n",
              "      <td>-0.03</td>\n",
              "      <td>-0.03</td>\n",
              "      <td>0.06</td>\n",
              "      <td>0.06</td>\n",
              "      <td>...</td>\n",
              "      <td>0.17</td>\n",
              "      <td>-0.04</td>\n",
              "      <td>2.03</td>\n",
              "      <td>0.00</td>\n",
              "      <td>-0.66</td>\n",
              "      <td>0.77</td>\n",
              "      <td>-1.05</td>\n",
              "      <td>0.47</td>\n",
              "      <td>0.77</td>\n",
              "      <td>0.50</td>\n",
              "      <td>-1.14</td>\n",
              "      <td>-1.12</td>\n",
              "      <td>-0.34</td>\n",
              "      <td>0.40</td>\n",
              "      <td>-0.39</td>\n",
              "      <td>-0.21</td>\n",
              "      <td>-1.23</td>\n",
              "      <td>0.44</td>\n",
              "      <td>-0.12</td>\n",
              "      <td>-0.40</td>\n",
              "      <td>-0.54</td>\n",
              "      <td>0.63</td>\n",
              "      <td>0.27</td>\n",
              "      <td>-1.06</td>\n",
              "      <td>-0.38</td>\n",
              "      <td>0.11</td>\n",
              "      <td>0.43</td>\n",
              "      <td>-0.44</td>\n",
              "      <td>0.55</td>\n",
              "      <td>-0.72</td>\n",
              "      <td>-0.13</td>\n",
              "      <td>0.33</td>\n",
              "      <td>0.38</td>\n",
              "      <td>0.41</td>\n",
              "      <td>-0.61</td>\n",
              "      <td>0.24</td>\n",
              "      <td>-0.10</td>\n",
              "      <td>-1.19</td>\n",
              "      <td>0.37</td>\n",
              "      <td>0</td>\n",
              "    </tr>\n",
              "    <tr>\n",
              "      <th>3</th>\n",
              "      <td>-0.02</td>\n",
              "      <td>1.98</td>\n",
              "      <td>2.30</td>\n",
              "      <td>0.87</td>\n",
              "      <td>-7.09</td>\n",
              "      <td>0.36</td>\n",
              "      <td>0.16</td>\n",
              "      <td>1.79</td>\n",
              "      <td>0.23</td>\n",
              "      <td>0.26</td>\n",
              "      <td>-0.07</td>\n",
              "      <td>-0.27</td>\n",
              "      <td>0.02</td>\n",
              "      <td>0.30</td>\n",
              "      <td>0.79</td>\n",
              "      <td>-2.49</td>\n",
              "      <td>0.44</td>\n",
              "      <td>0.69</td>\n",
              "      <td>0.32</td>\n",
              "      <td>3.81</td>\n",
              "      <td>0.15</td>\n",
              "      <td>-0.23</td>\n",
              "      <td>0.45</td>\n",
              "      <td>0.58</td>\n",
              "      <td>0.87</td>\n",
              "      <td>0.81</td>\n",
              "      <td>0.02</td>\n",
              "      <td>0.11</td>\n",
              "      <td>-0.09</td>\n",
              "      <td>0.09</td>\n",
              "      <td>0.12</td>\n",
              "      <td>0.15</td>\n",
              "      <td>0.02</td>\n",
              "      <td>-0.02</td>\n",
              "      <td>0.02</td>\n",
              "      <td>0.17</td>\n",
              "      <td>-0.17</td>\n",
              "      <td>-0.01</td>\n",
              "      <td>0.04</td>\n",
              "      <td>0.02</td>\n",
              "      <td>...</td>\n",
              "      <td>-0.28</td>\n",
              "      <td>-0.23</td>\n",
              "      <td>-0.45</td>\n",
              "      <td>0.68</td>\n",
              "      <td>-0.98</td>\n",
              "      <td>0.24</td>\n",
              "      <td>-0.54</td>\n",
              "      <td>1.93</td>\n",
              "      <td>-0.06</td>\n",
              "      <td>-0.33</td>\n",
              "      <td>0.41</td>\n",
              "      <td>0.03</td>\n",
              "      <td>0.77</td>\n",
              "      <td>0.15</td>\n",
              "      <td>-0.28</td>\n",
              "      <td>-0.52</td>\n",
              "      <td>0.33</td>\n",
              "      <td>0.87</td>\n",
              "      <td>-0.34</td>\n",
              "      <td>0.26</td>\n",
              "      <td>-0.57</td>\n",
              "      <td>0.52</td>\n",
              "      <td>0.23</td>\n",
              "      <td>-0.58</td>\n",
              "      <td>-0.12</td>\n",
              "      <td>0.06</td>\n",
              "      <td>-0.74</td>\n",
              "      <td>0.56</td>\n",
              "      <td>0.39</td>\n",
              "      <td>0.29</td>\n",
              "      <td>0.07</td>\n",
              "      <td>0.41</td>\n",
              "      <td>-0.81</td>\n",
              "      <td>-0.49</td>\n",
              "      <td>0.07</td>\n",
              "      <td>-0.20</td>\n",
              "      <td>-0.31</td>\n",
              "      <td>-0.55</td>\n",
              "      <td>0.18</td>\n",
              "      <td>0</td>\n",
              "    </tr>\n",
              "    <tr>\n",
              "      <th>4</th>\n",
              "      <td>-0.01</td>\n",
              "      <td>0.14</td>\n",
              "      <td>-2.43</td>\n",
              "      <td>-0.68</td>\n",
              "      <td>0.73</td>\n",
              "      <td>-1.47</td>\n",
              "      <td>0.68</td>\n",
              "      <td>1.93</td>\n",
              "      <td>-0.35</td>\n",
              "      <td>3.12</td>\n",
              "      <td>-0.28</td>\n",
              "      <td>-1.12</td>\n",
              "      <td>4.90</td>\n",
              "      <td>-0.49</td>\n",
              "      <td>3.59</td>\n",
              "      <td>2.74</td>\n",
              "      <td>0.94</td>\n",
              "      <td>1.34</td>\n",
              "      <td>-0.61</td>\n",
              "      <td>0.44</td>\n",
              "      <td>0.38</td>\n",
              "      <td>-0.53</td>\n",
              "      <td>0.07</td>\n",
              "      <td>0.64</td>\n",
              "      <td>-0.68</td>\n",
              "      <td>-0.92</td>\n",
              "      <td>-1.68</td>\n",
              "      <td>0.81</td>\n",
              "      <td>0.17</td>\n",
              "      <td>-0.44</td>\n",
              "      <td>1.38</td>\n",
              "      <td>0.82</td>\n",
              "      <td>0.48</td>\n",
              "      <td>-0.32</td>\n",
              "      <td>-0.83</td>\n",
              "      <td>0.80</td>\n",
              "      <td>-1.52</td>\n",
              "      <td>0.07</td>\n",
              "      <td>0.54</td>\n",
              "      <td>0.14</td>\n",
              "      <td>...</td>\n",
              "      <td>-0.15</td>\n",
              "      <td>-0.57</td>\n",
              "      <td>-0.31</td>\n",
              "      <td>-0.07</td>\n",
              "      <td>-0.04</td>\n",
              "      <td>0.22</td>\n",
              "      <td>-0.01</td>\n",
              "      <td>0.22</td>\n",
              "      <td>-0.20</td>\n",
              "      <td>-0.30</td>\n",
              "      <td>-1.68</td>\n",
              "      <td>-0.04</td>\n",
              "      <td>0.43</td>\n",
              "      <td>-0.09</td>\n",
              "      <td>0.00</td>\n",
              "      <td>0.54</td>\n",
              "      <td>-1.74</td>\n",
              "      <td>-0.87</td>\n",
              "      <td>0.74</td>\n",
              "      <td>1.48</td>\n",
              "      <td>0.19</td>\n",
              "      <td>0.82</td>\n",
              "      <td>0.49</td>\n",
              "      <td>0.59</td>\n",
              "      <td>1.71</td>\n",
              "      <td>-0.02</td>\n",
              "      <td>-0.77</td>\n",
              "      <td>-0.68</td>\n",
              "      <td>0.38</td>\n",
              "      <td>-0.09</td>\n",
              "      <td>-0.04</td>\n",
              "      <td>0.03</td>\n",
              "      <td>0.07</td>\n",
              "      <td>-0.05</td>\n",
              "      <td>-0.02</td>\n",
              "      <td>-0.01</td>\n",
              "      <td>0.00</td>\n",
              "      <td>-0.20</td>\n",
              "      <td>0.07</td>\n",
              "      <td>0</td>\n",
              "    </tr>\n",
              "  </tbody>\n",
              "</table>\n",
              "<p>5 rows × 89 columns</p>\n",
              "</div>"
            ],
            "text/plain": [
              "      0     1     2     3     4     5  ...    83    84    85    86    87  convert\n",
              "0 -0.01 -0.43  2.22 -0.59  0.80  0.21  ... -0.04  0.36 -0.18 -0.24  0.07        0\n",
              "1  0.00 -4.11  1.48  0.92 -7.37  0.60  ... -1.43 -0.24 -0.41  0.71 -0.22        0\n",
              "2  0.01 -5.03 -2.78 -0.83  0.92  0.46  ... -0.61  0.24 -0.10 -1.19  0.37        0\n",
              "3 -0.02  1.98  2.30  0.87 -7.09  0.36  ...  0.07 -0.20 -0.31 -0.55  0.18        0\n",
              "4 -0.01  0.14 -2.43 -0.68  0.73 -1.47  ... -0.02 -0.01  0.00 -0.20  0.07        0\n",
              "\n",
              "[5 rows x 89 columns]"
            ]
          },
          "metadata": {
            "tags": []
          },
          "execution_count": 5
        }
      ]
    },
    {
      "cell_type": "markdown",
      "metadata": {
        "id": "LMDVlfJAg9Nj"
      },
      "source": [
        "### Reading Null Values"
      ]
    },
    {
      "cell_type": "code",
      "metadata": {
        "id": "h_--l5kiDreF",
        "colab": {
          "base_uri": "https://localhost:8080/",
          "height": 252
        },
        "outputId": "3729495e-5bcb-47f3-84eb-6a83c3543902"
      },
      "source": [
        "Null = []\n",
        "for i in df:\n",
        "    Null.append((i, df[i].isna().mean()*100))\n",
        "Null = pd.DataFrame(Null,columns=['class','per'])\n",
        "print(Null)"
      ],
      "execution_count": null,
      "outputs": [
        {
          "output_type": "stream",
          "text": [
            "      class  per\n",
            "0         0  0.0\n",
            "1         1  0.0\n",
            "2         2  0.0\n",
            "3         3  0.0\n",
            "4         4  0.0\n",
            "..      ...  ...\n",
            "84       84  0.0\n",
            "85       85  0.0\n",
            "86       86  0.0\n",
            "87       87  0.0\n",
            "88  convert  0.0\n",
            "\n",
            "[89 rows x 2 columns]\n"
          ],
          "name": "stdout"
        }
      ]
    },
    {
      "cell_type": "markdown",
      "metadata": {
        "id": "0-DUOIlxhFio"
      },
      "source": [
        "*As we can see that there is no nul values in the so no data is missing*"
      ]
    },
    {
      "cell_type": "markdown",
      "metadata": {
        "id": "V73qrddKi3QM"
      },
      "source": [
        "### Data Visualization"
      ]
    },
    {
      "cell_type": "code",
      "metadata": {
        "id": "u6OdosIpfAd2",
        "colab": {
          "base_uri": "https://localhost:8080/",
          "height": 333
        },
        "outputId": "f58f71a4-a553-49a8-85cf-343afb4e0263"
      },
      "source": [
        "sns.violinplot(df['14'])"
      ],
      "execution_count": null,
      "outputs": [
        {
          "output_type": "stream",
          "text": [
            "/usr/local/lib/python3.6/dist-packages/seaborn/_decorators.py:43: FutureWarning: Pass the following variable as a keyword arg: x. From version 0.12, the only valid positional argument will be `data`, and passing other arguments without an explicit keyword will result in an error or misinterpretation.\n",
            "  FutureWarning\n"
          ],
          "name": "stderr"
        },
        {
          "output_type": "display_data",
          "data": {
            "image/png": "[encoded data removed]",
            "text/plain": [
              "<Figure size 432x288 with 1 Axes>"
            ]
          },
          "metadata": {
            "tags": [],
            "needs_background": "light"
          }
        }
      ]
    },
    {
      "cell_type": "markdown",
      "metadata": {
        "id": "F5KzZ9ohjEr9"
      },
      "source": [
        "*With the help of this we came up with the thing that there is great variance within the target class with maximum nos occuring with 0*"
      ]
    },
    {
      "cell_type": "code",
      "metadata": {
        "id": "1RRvcleWdxp5",
        "colab": {
          "base_uri": "https://localhost:8080/",
          "height": 67
        },
        "outputId": "672779ad-22db-45c7-97d7-6fdaa5d41c8a"
      },
      "source": [
        "c = df.columns\n",
        "df[c[-1]].value_counts()"
      ],
      "execution_count": null,
      "outputs": [
        {
          "output_type": "execute_result",
          "data": {
            "text/plain": [
              "0    998092\n",
              "1      1908\n",
              "Name: convert, dtype: int64"
            ]
          },
          "metadata": {
            "tags": []
          },
          "execution_count": 20
        }
      ]
    },
    {
      "cell_type": "code",
      "metadata": {
        "id": "5UkJHrXEfaJl"
      },
      "source": [
        "cols = [col for col in df.columns if col not in [\"convert\"]]\n",
        "X = df[cols]"
      ],
      "execution_count": null,
      "outputs": []
    },
    {
      "cell_type": "markdown",
      "metadata": {
        "id": "G2o2ZI1boB6K"
      },
      "source": [
        "####Normalization"
      ]
    },
    {
      "cell_type": "code",
      "metadata": {
        "id": "woFtiO-Bfjwq"
      },
      "source": [
        "from sklearn.preprocessing import Normalizer\n",
        "trans = Normalizer().fit(X)\n",
        "X=trans.transform(X)"
      ],
      "execution_count": null,
      "outputs": []
    },
    {
      "cell_type": "markdown",
      "metadata": {
        "id": "PJPkBqE5oK1a"
      },
      "source": [
        "As from above we observe that that there is lot of values in 0 of the target class which becomes very bias for the classifier so, we apply Under_Sampling to overcome this issue."
      ]
    },
    {
      "cell_type": "code",
      "metadata": {
        "id": "xC5lGXopfnPl",
        "colab": {
          "base_uri": "https://localhost:8080/",
          "height": 138
        },
        "outputId": "104fb8aa-b9b3-4587-c9c4-11608ecafb62"
      },
      "source": [
        "from imblearn.under_sampling import RandomUnderSampler\n",
        "\n",
        "y=df[\"convert\"]\n",
        "rus = RandomUnderSampler(random_state=0)\n",
        "rus.fit(X, y)\n",
        "X, y = rus.fit_sample(X, y)"
      ],
      "execution_count": null,
      "outputs": [
        {
          "output_type": "stream",
          "text": [
            "/usr/local/lib/python3.6/dist-packages/sklearn/externals/six.py:31: FutureWarning: The module is deprecated in version 0.21 and will be removed in version 0.23 since we've dropped support for Python 2.7. Please rely on the official version of six (https://pypi.org/project/six/).\n",
            "  \"(https://pypi.org/project/six/).\", FutureWarning)\n",
            "/usr/local/lib/python3.6/dist-packages/sklearn/utils/deprecation.py:144: FutureWarning: The sklearn.neighbors.base module is  deprecated in version 0.22 and will be removed in version 0.24. The corresponding classes / functions should instead be imported from sklearn.neighbors. Anything that cannot be imported from sklearn.neighbors is now part of the private API.\n",
            "  warnings.warn(message, FutureWarning)\n",
            "/usr/local/lib/python3.6/dist-packages/sklearn/utils/deprecation.py:87: FutureWarning: Function safe_indexing is deprecated; safe_indexing is deprecated in version 0.22 and will be removed in version 0.24.\n",
            "  warnings.warn(msg, category=FutureWarning)\n"
          ],
          "name": "stderr"
        }
      ]
    },
    {
      "cell_type": "markdown",
      "metadata": {
        "id": "eqTmxzWRotGu"
      },
      "source": [
        "#### Train_Test_Split the Data"
      ]
    },
    {
      "cell_type": "code",
      "metadata": {
        "id": "Vx3AA4Lyf-Vy"
      },
      "source": [
        "from sklearn.model_selection import train_test_split\n",
        "X_train, X_test, y_train, y_test = train_test_split(X, y, test_size=0.2)"
      ],
      "execution_count": null,
      "outputs": []
    },
    {
      "cell_type": "markdown",
      "metadata": {
        "id": "ar3yoB7fpg4a"
      },
      "source": [
        "### Logistic Regression"
      ]
    },
    {
      "cell_type": "code",
      "metadata": {
        "id": "_sRsCw-PgBhi",
        "colab": {
          "base_uri": "https://localhost:8080/",
          "height": 34
        },
        "outputId": "30535c15-020c-463b-8c3c-f13e0184fce5"
      },
      "source": [
        "from sklearn.linear_model import LogisticRegression as LR\n",
        "model =LR()\n",
        "\n",
        "# Fitting the model\n",
        "model.fit(X_train, y_train)\n",
        "\n",
        "# Getting the training score\n",
        "print(\"Training Score:\",model.score(X_train, y_train)*100)"
      ],
      "execution_count": null,
      "outputs": [
        {
          "output_type": "stream",
          "text": [
            "Training Score: 66.08781127129751\n"
          ],
          "name": "stdout"
        }
      ]
    },
    {
      "cell_type": "code",
      "metadata": {
        "id": "TJCDz9AagGNR",
        "colab": {
          "base_uri": "https://localhost:8080/",
          "height": 34
        },
        "outputId": "3a4a429b-6dda-4bac-b1c0-ae8498279ce2"
      },
      "source": [
        "print(\"Testing Score:\",model.score(X_test, y_test)*100)"
      ],
      "execution_count": null,
      "outputs": [
        {
          "output_type": "stream",
          "text": [
            "Testing Score: 63.87434554973822\n"
          ],
          "name": "stdout"
        }
      ]
    },
    {
      "cell_type": "markdown",
      "metadata": {
        "id": "G96Qz03apnWp"
      },
      "source": [
        "## Decision Tree"
      ]
    },
    {
      "cell_type": "code",
      "metadata": {
        "id": "e9sDHXN7gKnz",
        "colab": {
          "base_uri": "https://localhost:8080/",
          "height": 34
        },
        "outputId": "f872d66e-c707-4504-8061-6bc06225bc0f"
      },
      "source": [
        "from sklearn import tree\n",
        "model = tree.DecisionTreeClassifier()\n",
        "\n",
        "# Fitting Model\n",
        "model.fit(X_train, y_train)\n",
        "\n",
        "# Getting the training score\n",
        "print(\"Training Score:\",model.score(X_train, y_train)*100)"
      ],
      "execution_count": null,
      "outputs": [
        {
          "output_type": "stream",
          "text": [
            "Training Score: 99.04980340760157\n"
          ],
          "name": "stdout"
        }
      ]
    },
    {
      "cell_type": "code",
      "metadata": {
        "id": "LWCZO2ergMli",
        "colab": {
          "base_uri": "https://localhost:8080/",
          "height": 34
        },
        "outputId": "bf10e7a1-6055-4d21-9fbd-a2ae63463651"
      },
      "source": [
        "print(\"Testing Score:\",model.score(X_test, y_test)*100)"
      ],
      "execution_count": null,
      "outputs": [
        {
          "output_type": "stream",
          "text": [
            "Testing Score: 56.41361256544503\n"
          ],
          "name": "stdout"
        }
      ]
    }
  ]
}