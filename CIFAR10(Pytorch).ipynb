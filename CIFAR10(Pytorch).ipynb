{
  "nbformat": 4,
  "nbformat_minor": 0,
  "metadata": {
    "colab": {
      "name": "CIFAR10(Pytorch).ipynb",
      "provenance": [],
      "collapsed_sections": [],
      "include_colab_link": true
    },
    "kernelspec": {
      "name": "python3",
      "display_name": "Python 3"
    },
    "accelerator": "GPU"
  },
  "cells": [
    {
      "cell_type": "markdown",
      "metadata": {
        "id": "view-in-github",
        "colab_type": "text"
      },
      "source": [
        "<a href=\"https://colab.research.google.com/github/jajoonaman/ML_DL_Work/blob/main/CIFAR10(Pytorch).ipynb\" target=\"_parent\"><img src=\"https://colab.research.google.com/assets/colab-badge.svg\" alt=\"Open In Colab\"/></a>"
      ]
    },
    {
      "cell_type": "code",
      "metadata": {
        "id": "-V0su0H9EqIS"
      },
      "source": [
        "import tensorflow as tf  #import tensorflow\n",
        "import matplotlib.pyplot as plt   # to plot\n",
        "import torch\n",
        "import torch.nn as nn    # contains all the functions to build NN\n",
        "import torchvision       # contains datasets, some functions which can be applied on cv problem\n",
        "import torchvision.transforms as transforms    # to transform data"
      ],
      "execution_count": null,
      "outputs": []
    },
    {
      "cell_type": "code",
      "metadata": {
        "id": "ASlmxZdaI0lx"
      },
      "source": [
        "device = torch.device('cuda:0'if torch.cuda.is_available() else 'cpu')  # set the device where the computation is to be perfomed. \n",
        "                                                                        # If cuda avaliable, it will set the device to that, else cpu"
      ],
      "execution_count": null,
      "outputs": []
    },
    {
      "cell_type": "markdown",
      "metadata": {
        "id": "Bgixien2KstT"
      },
      "source": [
        "Importing datasets from torchvision"
      ]
    },
    {
      "cell_type": "markdown",
      "metadata": {
        "id": "tURV19B8Lb2b"
      },
      "source": [
        "Train data"
      ]
    },
    {
      "cell_type": "code",
      "metadata": {
        "colab": {
          "base_uri": "https://localhost:8080/"
        },
        "id": "-Dzzkc9OFGkj",
        "outputId": "106ebcb4-6256-483e-c424-2a3615d2e338"
      },
      "source": [
        "train_data = torchvision.datasets.CIFAR10(root='/data',          # the directory in which dataset is to be stored\n",
        "                                          train = True,          # since this data is used for training\n",
        "                                          transform = transforms.ToTensor(),    # this is image dataset, so we tranform it to tensor, \n",
        "                                                                                # to perfom faster computation\n",
        "                                          download = True ) "
      ],
      "execution_count": null,
      "outputs": [
        {
          "output_type": "stream",
          "text": [
            "Files already downloaded and verified\n"
          ],
          "name": "stdout"
        }
      ]
    },
    {
      "cell_type": "markdown",
      "metadata": {
        "id": "8e874UkyLeO9"
      },
      "source": [
        "Test data"
      ]
    },
    {
      "cell_type": "code",
      "metadata": {
        "colab": {
          "base_uri": "https://localhost:8080/"
        },
        "id": "X7LNxRmsKUM0",
        "outputId": "afcae6e4-3f6a-4535-ec94-5210acc68d9b"
      },
      "source": [
        "test_data = torchvision.datasets.CIFAR10(root='/data',\n",
        "                                          train = False,\n",
        "                                          transform = transforms.ToTensor(),\n",
        "                                          download = True )"
      ],
      "execution_count": null,
      "outputs": [
        {
          "output_type": "stream",
          "text": [
            "Files already downloaded and verified\n"
          ],
          "name": "stdout"
        }
      ]
    },
    {
      "cell_type": "markdown",
      "metadata": {
        "id": "nImJYP3oLiOZ"
      },
      "source": [
        "All the images are stored as tensors in train_data and test_data"
      ]
    },
    {
      "cell_type": "code",
      "metadata": {
        "id": "5RmmJ-p3MAeZ"
      },
      "source": [
        "# Since this is a fairly large dataset, so faster computation we divide this data into batches/chunks\n",
        "batch_size = 250\n",
        "train_loader = torch.utils.data.DataLoader(dataset = train_data,\n",
        "                                           batch_size = batch_size,\n",
        "                                           shuffle = True)\n",
        "\n",
        "\n",
        "test_loader = torch.utils.data.DataLoader(dataset = test_data,\n",
        "                                           batch_size = batch_size,\n",
        "                                           shuffle = True)\n"
      ],
      "execution_count": null,
      "outputs": []
    },
    {
      "cell_type": "markdown",
      "metadata": {
        "id": "Z4tFUCQfMsAk"
      },
      "source": [
        "Setting the parameters"
      ]
    },
    {
      "cell_type": "code",
      "metadata": {
        "id": "vnraircYMrR6"
      },
      "source": [
        "num_epochs = 20   # the number of times our dataset passes through the NN\n",
        "num_classes = 10\n",
        "learning_rate = 0.001"
      ],
      "execution_count": null,
      "outputs": []
    },
    {
      "cell_type": "markdown",
      "metadata": {
        "id": "0jk1YtdBNGAt"
      },
      "source": [
        "In Pytorch, NN is defined in form of classes."
      ]
    },
    {
      "cell_type": "code",
      "metadata": {
        "id": "Y2pn13RPG1v7"
      },
      "source": [
        "#define class\n",
        "class Classify(nn.Module):       # nn.Modules - base class for nn modules\n",
        "  \n",
        "  def __init__(self,num_classes = 10):    # define constructor, it initialises the object at the time of creation\n",
        "                                          # we will have 3 layer \n",
        "    super(Classify, self).__init__()\n",
        "\n",
        "    self.layer1 = nn.Sequential(          # it will perform sequential operations\n",
        "        nn.Conv2d(3,16,kernel_size = 3, stride = 1, padding=1),     # since colored images, so input channel = 3\n",
        "                                                                    # output channels = 16, kernel/filtersize =5*5\n",
        "                                                                    # stride - by how many pixel should our window moves\n",
        "                                                                    # padding - how may 0's we want to add to our compressed image\n",
        "                   nn.BatchNorm2d(16),                              # can improve lr of model, minimize internal covariate shift(mean-0, variance-1)\n",
        "                   nn.ReLU(),                                       # avtivation function\n",
        "                   nn.Conv2d(16, 32, kernel_size = 3, stride =1, padding = 1),\n",
        "                   nn.BatchNorm2d(32), \n",
        "                   nn.ReLU(),\n",
        "\n",
        "                   nn.MaxPool2d(kernel_size = 2, stride = 2)        # this will reduce th size of image into half\n",
        "    )      \n",
        "\n",
        "    #after this layer the size will be 16*16\n",
        "\n",
        "    self.layer2 = nn.Sequential(\n",
        "        \n",
        "        nn.Conv2d(32, 64, kernel_size = 3, stride =1, padding = 1),\n",
        "        nn.BatchNorm2d(64),\n",
        "        nn.ReLU(),\n",
        "        nn.Conv2d(64, 128, kernel_size = 3, stride =1, padding = 1),\n",
        "        nn.BatchNorm2d(128),\n",
        "        nn.ReLU(),\n",
        "        nn.MaxPool2d(kernel_size = 2, stride = 2 )\n",
        "    )        \n",
        "\n",
        "    self.layer3 = nn.Sequential(\n",
        "        \n",
        "        nn.Conv2d(128, 256, kernel_size = 3, stride =1, padding = 1),\n",
        "        nn.BatchNorm2d(256),\n",
        "        nn.ReLU(),\n",
        "        nn.Conv2d(256, 512, kernel_size = 3, stride =1, padding = 1),\n",
        "        nn.BatchNorm2d(512),\n",
        "        nn.ReLU(),\n",
        "        nn.MaxPool2d(kernel_size = 2, stride = 2 )\n",
        "    )        \n",
        "\n",
        "   # after this layer, the size will be 4*4\n",
        "\n",
        "    self.fc = nn.Linear(4*4*512, num_classes)             # fc - fully connected network, applies linear transformation to the upcoming data\n",
        "                                                         # 8*8 is the size of image, and the last no of output channels was 32\n",
        "\n",
        "\n",
        "  def forward(self, x):                                  # this function will combine all the above information in a specific order\n",
        "    out = self.layer1(x)\n",
        "    out = self.layer2(out)\n",
        "    out = self.layer3(out)\n",
        "    out = out.reshape(out.size(0), -1)                   # the layers give 2D data as output, so to convert to 1D(vector), reshape. \n",
        "                                                         # -1 means number of columns will be calculated automaticaly.\n",
        "                                                         # out.size(0) gives number of rows\n",
        "    out = self.fc(out)                                                     \n",
        "    return out     "
      ],
      "execution_count": null,
      "outputs": []
    },
    {
      "cell_type": "markdown",
      "metadata": {
        "id": "F5CwFjYgQaB7"
      },
      "source": [
        "1. Don't keep kernel size too large, or a lot of information would be lost.\n",
        "2. To find size of output image : H = (H - FilterSize + 2*Padding/Stride)+1"
      ]
    },
    {
      "cell_type": "code",
      "metadata": {
        "id": "9MbS1RdXQfvv"
      },
      "source": [
        "model = Classify(num_classes).to(device)"
      ],
      "execution_count": null,
      "outputs": []
    },
    {
      "cell_type": "code",
      "metadata": {
        "id": "MsG-xPcV_gQ4"
      },
      "source": [
        "#Loss and optimizer\n",
        "\n",
        "criterion = nn.CrossEntropyLoss()       # since this is a classification problem\n",
        "optimizer = torch.optim.Adam(model.parameters(), lr = learning_rate)  # default learning rate of Adam is 0.001\n"
      ],
      "execution_count": null,
      "outputs": []
    },
    {
      "cell_type": "markdown",
      "metadata": {
        "id": "nSCbrWYzEimF"
      },
      "source": [
        "Training Loop"
      ]
    },
    {
      "cell_type": "code",
      "metadata": {
        "colab": {
          "base_uri": "https://localhost:8080/"
        },
        "id": "p81MVhZ0EcMW",
        "outputId": "6fcd601a-60e9-4e83-b17e-5a9f645d1335"
      },
      "source": [
        "total_step = len(train_loader)\n",
        "\n",
        "for epoch in range(num_epochs):   # first loop for the epochs\n",
        "\n",
        "  for i, (images, labels) in enumerate(train_loader):         # second loop for the training batches\n",
        "                                                              # at a time from the train_loader we pick the image,label (100images and 100 labels)\n",
        "    images = images.to(device)                                \n",
        "    labels = labels.to(device)                                # set the image and label to device\n",
        "\n",
        "\n",
        "    # Forward pass\n",
        "    output = model(images)\n",
        "    loss = criterion(output, labels)                          # both values are compared and stored in loss\n",
        "\n",
        "    # Backward pass\n",
        "    optimizer.zero_grad()                                     # to optimize the loss,to not accumulate the previous gradient\n",
        "    loss.backward()                                           # to calculate the gradient\n",
        "    optimizer.step()                                          # it applies the optimizer to change the parameter \n",
        "                                                              # once paramters are changed, we can test it on the test data\n",
        "\n",
        "    if (i+1) % 100 == 0:\n",
        "      print('Epoch [{} {}], Step [{} {}], Loss: {:4f}'.format(epoch+1, num_epochs, i+1, total_step, loss.item()))                                                      \n",
        "\n",
        "\n",
        "\n"
      ],
      "execution_count": null,
      "outputs": [
        {
          "output_type": "stream",
          "text": [
            "Epoch [1 20], Step [100 200], Loss: 1.562677\n",
            "Epoch [1 20], Step [200 200], Loss: 1.294627\n",
            "Epoch [2 20], Step [100 200], Loss: 0.864617\n",
            "Epoch [2 20], Step [200 200], Loss: 0.955836\n",
            "Epoch [3 20], Step [100 200], Loss: 0.702145\n",
            "Epoch [3 20], Step [200 200], Loss: 0.676127\n",
            "Epoch [4 20], Step [100 200], Loss: 0.724580\n",
            "Epoch [4 20], Step [200 200], Loss: 0.656834\n",
            "Epoch [5 20], Step [100 200], Loss: 0.453649\n",
            "Epoch [5 20], Step [200 200], Loss: 0.548480\n",
            "Epoch [6 20], Step [100 200], Loss: 0.397587\n",
            "Epoch [6 20], Step [200 200], Loss: 0.369243\n",
            "Epoch [7 20], Step [100 200], Loss: 0.330907\n",
            "Epoch [7 20], Step [200 200], Loss: 0.255227\n",
            "Epoch [8 20], Step [100 200], Loss: 0.204041\n",
            "Epoch [8 20], Step [200 200], Loss: 0.266846\n",
            "Epoch [9 20], Step [100 200], Loss: 0.177696\n",
            "Epoch [9 20], Step [200 200], Loss: 0.158291\n",
            "Epoch [10 20], Step [100 200], Loss: 0.122614\n",
            "Epoch [10 20], Step [200 200], Loss: 0.141579\n",
            "Epoch [11 20], Step [100 200], Loss: 0.090822\n",
            "Epoch [11 20], Step [200 200], Loss: 0.068791\n",
            "Epoch [12 20], Step [100 200], Loss: 0.027219\n",
            "Epoch [12 20], Step [200 200], Loss: 0.044085\n",
            "Epoch [13 20], Step [100 200], Loss: 0.023311\n",
            "Epoch [13 20], Step [200 200], Loss: 0.028015\n",
            "Epoch [14 20], Step [100 200], Loss: 0.019538\n",
            "Epoch [14 20], Step [200 200], Loss: 0.094352\n",
            "Epoch [15 20], Step [100 200], Loss: 0.126467\n",
            "Epoch [15 20], Step [200 200], Loss: 0.157084\n",
            "Epoch [16 20], Step [100 200], Loss: 0.069801\n",
            "Epoch [16 20], Step [200 200], Loss: 0.083281\n",
            "Epoch [17 20], Step [100 200], Loss: 0.060934\n",
            "Epoch [17 20], Step [200 200], Loss: 0.057426\n",
            "Epoch [18 20], Step [100 200], Loss: 0.008703\n",
            "Epoch [18 20], Step [200 200], Loss: 0.016575\n",
            "Epoch [19 20], Step [100 200], Loss: 0.006719\n",
            "Epoch [19 20], Step [200 200], Loss: 0.002434\n",
            "Epoch [20 20], Step [100 200], Loss: 0.000675\n",
            "Epoch [20 20], Step [200 200], Loss: 0.000767\n"
          ],
          "name": "stdout"
        }
      ]
    },
    {
      "cell_type": "markdown",
      "metadata": {
        "id": "votE6lGjPZoT"
      },
      "source": [
        "Test the model on test data"
      ]
    },
    {
      "cell_type": "code",
      "metadata": {
        "colab": {
          "base_uri": "https://localhost:8080/"
        },
        "id": "3yetM6NpLEH3",
        "outputId": "4692fb1b-f051-48f7-eca9-a66e84bd7e19"
      },
      "source": [
        "model.eval()                      # put the model in this\n",
        "\n",
        "with torch.no_grad():\n",
        "  correct = 0\n",
        "  total = 0\n",
        "  for images, labels in test_loader:\n",
        "    images = images.to(device)\n",
        "    labels = labels.to(device)\n",
        "\n",
        "    output = model(images)           # this output will give us probabilities, we need to convert them into classes\n",
        "\n",
        "    _, predicted = torch.max(output.data, 1)     # this will provide us with the class with max probablitiy\n",
        "\n",
        "    total += labels.size(0)                      # used to calculate the total size of the labels\n",
        "    correct += (predicted == labels).sum().item() # used to see how many predicted match with labels\n",
        "\n",
        "  print('Test accuracy : {} %'.format(100* correct/total))\n"
      ],
      "execution_count": null,
      "outputs": [
        {
          "output_type": "stream",
          "text": [
            "Test accuracy : 85.28 %\n"
          ],
          "name": "stdout"
        }
      ]
    }
  ]
}